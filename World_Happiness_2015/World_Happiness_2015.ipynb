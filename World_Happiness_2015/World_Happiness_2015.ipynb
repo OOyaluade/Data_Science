{
 "cells": [
  {
   "cell_type": "code",
   "execution_count": 71,
   "id": "76dc3d3a",
   "metadata": {},
   "outputs": [],
   "source": [
    "import pandas as pd, numpy as np, matplotlib.pyplot as plt"
   ]
  },
  {
   "cell_type": "code",
   "execution_count": 72,
   "id": "63d5da99",
   "metadata": {},
   "outputs": [],
   "source": [
    "happiness2015 = pd.read_csv('World_Happiness_2015.csv')"
   ]
  },
  {
   "cell_type": "code",
   "execution_count": 73,
   "id": "3effef78",
   "metadata": {},
   "outputs": [
    {
     "data": {
      "text/html": [
       "<div>\n",
       "<style scoped>\n",
       "    .dataframe tbody tr th:only-of-type {\n",
       "        vertical-align: middle;\n",
       "    }\n",
       "\n",
       "    .dataframe tbody tr th {\n",
       "        vertical-align: top;\n",
       "    }\n",
       "\n",
       "    .dataframe thead th {\n",
       "        text-align: right;\n",
       "    }\n",
       "</style>\n",
       "<table border=\"1\" class=\"dataframe\">\n",
       "  <thead>\n",
       "    <tr style=\"text-align: right;\">\n",
       "      <th></th>\n",
       "      <th>Country</th>\n",
       "      <th>Region</th>\n",
       "      <th>Happiness Rank</th>\n",
       "      <th>Happiness Score</th>\n",
       "      <th>Standard Error</th>\n",
       "      <th>Economy (GDP per Capita)</th>\n",
       "      <th>Family</th>\n",
       "      <th>Health (Life Expectancy)</th>\n",
       "      <th>Freedom</th>\n",
       "      <th>Trust (Government Corruption)</th>\n",
       "      <th>Generosity</th>\n",
       "      <th>Dystopia Residual</th>\n",
       "    </tr>\n",
       "  </thead>\n",
       "  <tbody>\n",
       "    <tr>\n",
       "      <th>0</th>\n",
       "      <td>Switzerland</td>\n",
       "      <td>Western Europe</td>\n",
       "      <td>1</td>\n",
       "      <td>7.587</td>\n",
       "      <td>0.03411</td>\n",
       "      <td>1.39651</td>\n",
       "      <td>1.34951</td>\n",
       "      <td>0.94143</td>\n",
       "      <td>0.66557</td>\n",
       "      <td>0.41978</td>\n",
       "      <td>0.29678</td>\n",
       "      <td>2.51738</td>\n",
       "    </tr>\n",
       "    <tr>\n",
       "      <th>1</th>\n",
       "      <td>Iceland</td>\n",
       "      <td>Western Europe</td>\n",
       "      <td>2</td>\n",
       "      <td>7.561</td>\n",
       "      <td>0.04884</td>\n",
       "      <td>1.30232</td>\n",
       "      <td>1.40223</td>\n",
       "      <td>0.94784</td>\n",
       "      <td>0.62877</td>\n",
       "      <td>0.14145</td>\n",
       "      <td>0.43630</td>\n",
       "      <td>2.70201</td>\n",
       "    </tr>\n",
       "    <tr>\n",
       "      <th>2</th>\n",
       "      <td>Denmark</td>\n",
       "      <td>Western Europe</td>\n",
       "      <td>3</td>\n",
       "      <td>7.527</td>\n",
       "      <td>0.03328</td>\n",
       "      <td>1.32548</td>\n",
       "      <td>1.36058</td>\n",
       "      <td>0.87464</td>\n",
       "      <td>0.64938</td>\n",
       "      <td>0.48357</td>\n",
       "      <td>0.34139</td>\n",
       "      <td>2.49204</td>\n",
       "    </tr>\n",
       "    <tr>\n",
       "      <th>3</th>\n",
       "      <td>Norway</td>\n",
       "      <td>Western Europe</td>\n",
       "      <td>4</td>\n",
       "      <td>7.522</td>\n",
       "      <td>0.03880</td>\n",
       "      <td>1.45900</td>\n",
       "      <td>1.33095</td>\n",
       "      <td>0.88521</td>\n",
       "      <td>0.66973</td>\n",
       "      <td>0.36503</td>\n",
       "      <td>0.34699</td>\n",
       "      <td>2.46531</td>\n",
       "    </tr>\n",
       "    <tr>\n",
       "      <th>4</th>\n",
       "      <td>Canada</td>\n",
       "      <td>North America</td>\n",
       "      <td>5</td>\n",
       "      <td>7.427</td>\n",
       "      <td>0.03553</td>\n",
       "      <td>1.32629</td>\n",
       "      <td>1.32261</td>\n",
       "      <td>0.90563</td>\n",
       "      <td>0.63297</td>\n",
       "      <td>0.32957</td>\n",
       "      <td>0.45811</td>\n",
       "      <td>2.45176</td>\n",
       "    </tr>\n",
       "  </tbody>\n",
       "</table>\n",
       "</div>"
      ],
      "text/plain": [
       "       Country          Region  Happiness Rank  Happiness Score  \\\n",
       "0  Switzerland  Western Europe               1            7.587   \n",
       "1      Iceland  Western Europe               2            7.561   \n",
       "2      Denmark  Western Europe               3            7.527   \n",
       "3       Norway  Western Europe               4            7.522   \n",
       "4       Canada   North America               5            7.427   \n",
       "\n",
       "   Standard Error  Economy (GDP per Capita)   Family  \\\n",
       "0         0.03411                   1.39651  1.34951   \n",
       "1         0.04884                   1.30232  1.40223   \n",
       "2         0.03328                   1.32548  1.36058   \n",
       "3         0.03880                   1.45900  1.33095   \n",
       "4         0.03553                   1.32629  1.32261   \n",
       "\n",
       "   Health (Life Expectancy)  Freedom  Trust (Government Corruption)  \\\n",
       "0                   0.94143  0.66557                        0.41978   \n",
       "1                   0.94784  0.62877                        0.14145   \n",
       "2                   0.87464  0.64938                        0.48357   \n",
       "3                   0.88521  0.66973                        0.36503   \n",
       "4                   0.90563  0.63297                        0.32957   \n",
       "\n",
       "   Generosity  Dystopia Residual  \n",
       "0     0.29678            2.51738  \n",
       "1     0.43630            2.70201  \n",
       "2     0.34139            2.49204  \n",
       "3     0.34699            2.46531  \n",
       "4     0.45811            2.45176  "
      ]
     },
     "execution_count": 73,
     "metadata": {},
     "output_type": "execute_result"
    }
   ],
   "source": [
    "happiness2015.head()"
   ]
  },
  {
   "cell_type": "code",
   "execution_count": 74,
   "id": "c8d1e6e5",
   "metadata": {},
   "outputs": [],
   "source": [
    "happiness2015_region = happiness2015.groupby('Region').mean(numeric_only=True)"
   ]
  },
  {
   "cell_type": "code",
   "execution_count": 75,
   "id": "1db11a97",
   "metadata": {},
   "outputs": [],
   "source": [
    "# happiness2015_region = happiness2015.groupby('Region')[['Family','Happiness Score']].mean()"
   ]
  },
  {
   "cell_type": "code",
   "execution_count": 76,
   "id": "e850c6cd",
   "metadata": {},
   "outputs": [
    {
     "name": "stderr",
     "output_type": "stream",
     "text": [
      "/tmp/ipykernel_47535/980255771.py:6: FutureWarning: The provided callable <function mean at 0x72e0f4ee0f40> is currently using SeriesGroupBy.mean. In a future version of pandas, the provided callable will be used directly. To keep current behavior pass the string \"mean\" instead.\n",
      "  happy_mean_max = happy_grouped.agg([np.mean,np.max])\n",
      "/tmp/ipykernel_47535/980255771.py:6: FutureWarning: The provided callable <function max at 0x72e0f4ee0540> is currently using SeriesGroupBy.max. In a future version of pandas, the provided callable will be used directly. To keep current behavior pass the string \"max\" instead.\n",
      "  happy_mean_max = happy_grouped.agg([np.mean,np.max])\n"
     ]
    }
   ],
   "source": [
    "grouped = happiness2015.groupby('Region')\n",
    "happy_grouped = grouped['Happiness Score']\n",
    "def dif(group):\n",
    "    return group.max() - group.mean()\n",
    "\n",
    "happy_mean_max = happy_grouped.agg([np.mean,np.max])\n",
    "mean_max_dif = happy_grouped.agg(dif)"
   ]
  },
  {
   "cell_type": "code",
   "execution_count": 77,
   "id": "649e24ff",
   "metadata": {},
   "outputs": [
    {
     "data": {
      "text/html": [
       "<div>\n",
       "<style scoped>\n",
       "    .dataframe tbody tr th:only-of-type {\n",
       "        vertical-align: middle;\n",
       "    }\n",
       "\n",
       "    .dataframe tbody tr th {\n",
       "        vertical-align: top;\n",
       "    }\n",
       "\n",
       "    .dataframe thead th {\n",
       "        text-align: right;\n",
       "    }\n",
       "</style>\n",
       "<table border=\"1\" class=\"dataframe\">\n",
       "  <thead>\n",
       "    <tr style=\"text-align: right;\">\n",
       "      <th></th>\n",
       "      <th>mean</th>\n",
       "      <th>max</th>\n",
       "    </tr>\n",
       "    <tr>\n",
       "      <th>Region</th>\n",
       "      <th></th>\n",
       "      <th></th>\n",
       "    </tr>\n",
       "  </thead>\n",
       "  <tbody>\n",
       "    <tr>\n",
       "      <th>Australia and New Zealand</th>\n",
       "      <td>7.285000</td>\n",
       "      <td>7.286</td>\n",
       "    </tr>\n",
       "    <tr>\n",
       "      <th>Central and Eastern Europe</th>\n",
       "      <td>5.332931</td>\n",
       "      <td>6.505</td>\n",
       "    </tr>\n",
       "    <tr>\n",
       "      <th>Eastern Asia</th>\n",
       "      <td>5.626167</td>\n",
       "      <td>6.298</td>\n",
       "    </tr>\n",
       "    <tr>\n",
       "      <th>Latin America and Caribbean</th>\n",
       "      <td>6.144682</td>\n",
       "      <td>7.226</td>\n",
       "    </tr>\n",
       "    <tr>\n",
       "      <th>Middle East and Northern Africa</th>\n",
       "      <td>5.406900</td>\n",
       "      <td>7.278</td>\n",
       "    </tr>\n",
       "    <tr>\n",
       "      <th>North America</th>\n",
       "      <td>7.273000</td>\n",
       "      <td>7.427</td>\n",
       "    </tr>\n",
       "    <tr>\n",
       "      <th>Southeastern Asia</th>\n",
       "      <td>5.317444</td>\n",
       "      <td>6.798</td>\n",
       "    </tr>\n",
       "    <tr>\n",
       "      <th>Southern Asia</th>\n",
       "      <td>4.580857</td>\n",
       "      <td>5.253</td>\n",
       "    </tr>\n",
       "    <tr>\n",
       "      <th>Sub-Saharan Africa</th>\n",
       "      <td>4.202800</td>\n",
       "      <td>5.477</td>\n",
       "    </tr>\n",
       "    <tr>\n",
       "      <th>Western Europe</th>\n",
       "      <td>6.689619</td>\n",
       "      <td>7.587</td>\n",
       "    </tr>\n",
       "  </tbody>\n",
       "</table>\n",
       "</div>"
      ],
      "text/plain": [
       "                                     mean    max\n",
       "Region                                          \n",
       "Australia and New Zealand        7.285000  7.286\n",
       "Central and Eastern Europe       5.332931  6.505\n",
       "Eastern Asia                     5.626167  6.298\n",
       "Latin America and Caribbean      6.144682  7.226\n",
       "Middle East and Northern Africa  5.406900  7.278\n",
       "North America                    7.273000  7.427\n",
       "Southeastern Asia                5.317444  6.798\n",
       "Southern Asia                    4.580857  5.253\n",
       "Sub-Saharan Africa               4.202800  5.477\n",
       "Western Europe                   6.689619  7.587"
      ]
     },
     "execution_count": 77,
     "metadata": {},
     "output_type": "execute_result"
    }
   ],
   "source": [
    "happy_mean_max"
   ]
  },
  {
   "cell_type": "code",
   "execution_count": 78,
   "id": "716d05ce",
   "metadata": {},
   "outputs": [
    {
     "data": {
      "text/plain": [
       "Region\n",
       "Australia and New Zealand          0.001000\n",
       "Central and Eastern Europe         1.172069\n",
       "Eastern Asia                       0.671833\n",
       "Latin America and Caribbean        1.081318\n",
       "Middle East and Northern Africa    1.871100\n",
       "North America                      0.154000\n",
       "Southeastern Asia                  1.480556\n",
       "Southern Asia                      0.672143\n",
       "Sub-Saharan Africa                 1.274200\n",
       "Western Europe                     0.897381\n",
       "Name: Happiness Score, dtype: float64"
      ]
     },
     "execution_count": 78,
     "metadata": {},
     "output_type": "execute_result"
    }
   ],
   "source": [
    "mean_max_dif"
   ]
  },
  {
   "cell_type": "code",
   "execution_count": 79,
   "id": "e72f4449",
   "metadata": {},
   "outputs": [],
   "source": [
    "pv_happiness = happiness2015.pivot_table(values='Happiness Score', index='Region')"
   ]
  },
  {
   "cell_type": "code",
   "execution_count": 80,
   "id": "92ec8fee",
   "metadata": {},
   "outputs": [
    {
     "data": {
      "image/png": "[encoded data removed]",
      "text/plain": [
       "<Figure size 640x480 with 1 Axes>"
      ]
     },
     "metadata": {},
     "output_type": "display_data"
    }
   ],
   "source": [
    "pv_happiness.plot(kind='barh')\n",
    "plt.show()"
   ]
  },
  {
   "cell_type": "code",
   "execution_count": 81,
   "id": "3d251e2e",
   "metadata": {},
   "outputs": [
    {
     "data": {
      "text/plain": [
       "Region\n",
       "Australia and New Zealand          7.285000\n",
       "Central and Eastern Europe         5.332931\n",
       "Eastern Asia                       5.626167\n",
       "Latin America and Caribbean        6.144682\n",
       "Middle East and Northern Africa    5.406900\n",
       "North America                      7.273000\n",
       "Southeastern Asia                  5.317444\n",
       "Southern Asia                      4.580857\n",
       "Sub-Saharan Africa                 4.202800\n",
       "Western Europe                     6.689619\n",
       "Name: Happiness Score, dtype: float64"
      ]
     },
     "execution_count": 81,
     "metadata": {},
     "output_type": "execute_result"
    }
   ],
   "source": [
    "happiness2015_region = happiness2015.groupby('Region')['Happiness Score'].mean()\n",
    "happiness2015_region"
   ]
  },
  {
   "cell_type": "code",
   "execution_count": 82,
   "id": "10de068e",
   "metadata": {},
   "outputs": [
    {
     "name": "stderr",
     "output_type": "stream",
     "text": [
      "/tmp/ipykernel_47535/3025641369.py:1: FutureWarning: The provided callable <function mean at 0x72e0f4ee0f40> is currently using DataFrameGroupBy.mean. In a future version of pandas, the provided callable will be used directly. To keep current behavior pass the string \"mean\" instead.\n",
      "  mean_min_max_by_region = happiness2015.pivot_table(values=['Family','Happiness Score' ], index='Region', aggfunc=[np.mean, np.min , np.max], margins=True)\n",
      "/tmp/ipykernel_47535/3025641369.py:1: FutureWarning: The provided callable <function min at 0x72e0f4ee0680> is currently using DataFrameGroupBy.min. In a future version of pandas, the provided callable will be used directly. To keep current behavior pass the string \"min\" instead.\n",
      "  mean_min_max_by_region = happiness2015.pivot_table(values=['Family','Happiness Score' ], index='Region', aggfunc=[np.mean, np.min , np.max], margins=True)\n",
      "/tmp/ipykernel_47535/3025641369.py:1: FutureWarning: The provided callable <function max at 0x72e0f4ee0540> is currently using DataFrameGroupBy.max. In a future version of pandas, the provided callable will be used directly. To keep current behavior pass the string \"max\" instead.\n",
      "  mean_min_max_by_region = happiness2015.pivot_table(values=['Family','Happiness Score' ], index='Region', aggfunc=[np.mean, np.min , np.max], margins=True)\n"
     ]
    },
    {
     "data": {
      "text/html": [
       "<div>\n",
       "<style scoped>\n",
       "    .dataframe tbody tr th:only-of-type {\n",
       "        vertical-align: middle;\n",
       "    }\n",
       "\n",
       "    .dataframe tbody tr th {\n",
       "        vertical-align: top;\n",
       "    }\n",
       "\n",
       "    .dataframe thead tr th {\n",
       "        text-align: left;\n",
       "    }\n",
       "\n",
       "    .dataframe thead tr:last-of-type th {\n",
       "        text-align: right;\n",
       "    }\n",
       "</style>\n",
       "<table border=\"1\" class=\"dataframe\">\n",
       "  <thead>\n",
       "    <tr>\n",
       "      <th></th>\n",
       "      <th colspan=\"2\" halign=\"left\">mean</th>\n",
       "      <th colspan=\"2\" halign=\"left\">min</th>\n",
       "      <th colspan=\"2\" halign=\"left\">max</th>\n",
       "    </tr>\n",
       "    <tr>\n",
       "      <th></th>\n",
       "      <th>Family</th>\n",
       "      <th>Happiness Score</th>\n",
       "      <th>Family</th>\n",
       "      <th>Happiness Score</th>\n",
       "      <th>Family</th>\n",
       "      <th>Happiness Score</th>\n",
       "    </tr>\n",
       "    <tr>\n",
       "      <th>Region</th>\n",
       "      <th></th>\n",
       "      <th></th>\n",
       "      <th></th>\n",
       "      <th></th>\n",
       "      <th></th>\n",
       "      <th></th>\n",
       "    </tr>\n",
       "  </thead>\n",
       "  <tbody>\n",
       "    <tr>\n",
       "      <th>Australia and New Zealand</th>\n",
       "      <td>1.314450</td>\n",
       "      <td>7.285000</td>\n",
       "      <td>1.30923</td>\n",
       "      <td>7.284</td>\n",
       "      <td>1.31967</td>\n",
       "      <td>7.286</td>\n",
       "    </tr>\n",
       "    <tr>\n",
       "      <th>Central and Eastern Europe</th>\n",
       "      <td>1.053042</td>\n",
       "      <td>5.332931</td>\n",
       "      <td>0.38562</td>\n",
       "      <td>4.218</td>\n",
       "      <td>1.34043</td>\n",
       "      <td>6.505</td>\n",
       "    </tr>\n",
       "    <tr>\n",
       "      <th>Eastern Asia</th>\n",
       "      <td>1.099427</td>\n",
       "      <td>5.626167</td>\n",
       "      <td>0.94675</td>\n",
       "      <td>4.874</td>\n",
       "      <td>1.30060</td>\n",
       "      <td>6.298</td>\n",
       "    </tr>\n",
       "    <tr>\n",
       "      <th>Latin America and Caribbean</th>\n",
       "      <td>1.104720</td>\n",
       "      <td>6.144682</td>\n",
       "      <td>0.74302</td>\n",
       "      <td>4.518</td>\n",
       "      <td>1.30477</td>\n",
       "      <td>7.226</td>\n",
       "    </tr>\n",
       "    <tr>\n",
       "      <th>Middle East and Northern Africa</th>\n",
       "      <td>0.920490</td>\n",
       "      <td>5.406900</td>\n",
       "      <td>0.47489</td>\n",
       "      <td>3.006</td>\n",
       "      <td>1.22393</td>\n",
       "      <td>7.278</td>\n",
       "    </tr>\n",
       "    <tr>\n",
       "      <th>North America</th>\n",
       "      <td>1.284860</td>\n",
       "      <td>7.273000</td>\n",
       "      <td>1.24711</td>\n",
       "      <td>7.119</td>\n",
       "      <td>1.32261</td>\n",
       "      <td>7.427</td>\n",
       "    </tr>\n",
       "    <tr>\n",
       "      <th>Southeastern Asia</th>\n",
       "      <td>0.940468</td>\n",
       "      <td>5.317444</td>\n",
       "      <td>0.62736</td>\n",
       "      <td>3.819</td>\n",
       "      <td>1.26504</td>\n",
       "      <td>6.798</td>\n",
       "    </tr>\n",
       "    <tr>\n",
       "      <th>Southern Asia</th>\n",
       "      <td>0.645321</td>\n",
       "      <td>4.580857</td>\n",
       "      <td>0.30285</td>\n",
       "      <td>3.575</td>\n",
       "      <td>1.10395</td>\n",
       "      <td>5.253</td>\n",
       "    </tr>\n",
       "    <tr>\n",
       "      <th>Sub-Saharan Africa</th>\n",
       "      <td>0.809085</td>\n",
       "      <td>4.202800</td>\n",
       "      <td>0.00000</td>\n",
       "      <td>2.839</td>\n",
       "      <td>1.18468</td>\n",
       "      <td>5.477</td>\n",
       "    </tr>\n",
       "    <tr>\n",
       "      <th>Western Europe</th>\n",
       "      <td>1.247302</td>\n",
       "      <td>6.689619</td>\n",
       "      <td>0.89318</td>\n",
       "      <td>4.857</td>\n",
       "      <td>1.40223</td>\n",
       "      <td>7.587</td>\n",
       "    </tr>\n",
       "    <tr>\n",
       "      <th>All</th>\n",
       "      <td>0.991046</td>\n",
       "      <td>5.375734</td>\n",
       "      <td>0.00000</td>\n",
       "      <td>2.839</td>\n",
       "      <td>1.40223</td>\n",
       "      <td>7.587</td>\n",
       "    </tr>\n",
       "  </tbody>\n",
       "</table>\n",
       "</div>"
      ],
      "text/plain": [
       "                                     mean                      min  \\\n",
       "                                   Family Happiness Score   Family   \n",
       "Region                                                               \n",
       "Australia and New Zealand        1.314450        7.285000  1.30923   \n",
       "Central and Eastern Europe       1.053042        5.332931  0.38562   \n",
       "Eastern Asia                     1.099427        5.626167  0.94675   \n",
       "Latin America and Caribbean      1.104720        6.144682  0.74302   \n",
       "Middle East and Northern Africa  0.920490        5.406900  0.47489   \n",
       "North America                    1.284860        7.273000  1.24711   \n",
       "Southeastern Asia                0.940468        5.317444  0.62736   \n",
       "Southern Asia                    0.645321        4.580857  0.30285   \n",
       "Sub-Saharan Africa               0.809085        4.202800  0.00000   \n",
       "Western Europe                   1.247302        6.689619  0.89318   \n",
       "All                              0.991046        5.375734  0.00000   \n",
       "\n",
       "                                                     max                  \n",
       "                                Happiness Score   Family Happiness Score  \n",
       "Region                                                                    \n",
       "Australia and New Zealand                 7.284  1.31967           7.286  \n",
       "Central and Eastern Europe                4.218  1.34043           6.505  \n",
       "Eastern Asia                              4.874  1.30060           6.298  \n",
       "Latin America and Caribbean               4.518  1.30477           7.226  \n",
       "Middle East and Northern Africa           3.006  1.22393           7.278  \n",
       "North America                             7.119  1.32261           7.427  \n",
       "Southeastern Asia                         3.819  1.26504           6.798  \n",
       "Southern Asia                             3.575  1.10395           5.253  \n",
       "Sub-Saharan Africa                        2.839  1.18468           5.477  \n",
       "Western Europe                            4.857  1.40223           7.587  \n",
       "All                                       2.839  1.40223           7.587  "
      ]
     },
     "execution_count": 82,
     "metadata": {},
     "output_type": "execute_result"
    }
   ],
   "source": [
    "mean_min_max_by_region = happiness2015.pivot_table(values=['Family','Happiness Score' ], index='Region', aggfunc=[np.mean, np.min , np.max], margins=True)\n",
    "mean_min_max_by_region"
   ]
  },
  {
   "cell_type": "code",
   "execution_count": null,
   "id": "e0e0839e",
   "metadata": {},
   "outputs": [
    {
     "name": "stderr",
     "output_type": "stream",
     "text": [
      "/tmp/ipykernel_47535/1114321083.py:1: FutureWarning: The provided callable <function mean at 0x72e0f4ee0f40> is currently using DataFrameGroupBy.mean. In a future version of pandas, the provided callable will be used directly. To keep current behavior pass the string \"mean\" instead.\n",
      "  mean_min_max_by_region = happiness2015.pivot_table(values=['Family','Happiness Score' ], index='Region', aggfunc=[np.mean, np.min , np.max], margins=True)\n",
      "/tmp/ipykernel_47535/1114321083.py:1: FutureWarning: The provided callable <function min at 0x72e0f4ee0680> is currently using DataFrameGroupBy.min. In a future version of pandas, the provided callable will be used directly. To keep current behavior pass the string \"min\" instead.\n",
      "  mean_min_max_by_region = happiness2015.pivot_table(values=['Family','Happiness Score' ], index='Region', aggfunc=[np.mean, np.min , np.max], margins=True)\n",
      "/tmp/ipykernel_47535/1114321083.py:1: FutureWarning: The provided callable <function max at 0x72e0f4ee0540> is currently using DataFrameGroupBy.max. In a future version of pandas, the provided callable will be used directly. To keep current behavior pass the string \"max\" instead.\n",
      "  mean_min_max_by_region = happiness2015.pivot_table(values=['Family','Happiness Score' ], index='Region', aggfunc=[np.mean, np.min , np.max], margins=True)\n"
     ]
    },
    {
     "ename": "ValueError",
     "evalue": "Cannot subset columns with a tuple with more than one element. Use a list instead.",
     "output_type": "error",
     "traceback": [
      "\u001b[31m---------------------------------------------------------------------------\u001b[39m",
      "\u001b[31mValueError\u001b[39m                                Traceback (most recent call last)",
      "\u001b[36mCell\u001b[39m\u001b[36m \u001b[39m\u001b[32mIn[83]\u001b[39m\u001b[32m, line 4\u001b[39m\n\u001b[32m      1\u001b[39m mean_min_max_by_region = happiness2015.pivot_table(values=[\u001b[33m'\u001b[39m\u001b[33mFamily\u001b[39m\u001b[33m'\u001b[39m,\u001b[33m'\u001b[39m\u001b[33mHappiness Score\u001b[39m\u001b[33m'\u001b[39m ], index=\u001b[33m'\u001b[39m\u001b[33mRegion\u001b[39m\u001b[33m'\u001b[39m, aggfunc=[np.mean, np.min , np.max], margins=\u001b[38;5;28;01mTrue\u001b[39;00m)\n\u001b[32m      2\u001b[39m mean_min_max_by_region\n\u001b[32m----> \u001b[39m\u001b[32m4\u001b[39m happy_family_stats = \u001b[43mhappiness2015\u001b[49m\u001b[43m.\u001b[49m\u001b[43mgroupby\u001b[49m\u001b[43m(\u001b[49m\u001b[33;43m'\u001b[39;49m\u001b[33;43mRegion\u001b[39;49m\u001b[33;43m'\u001b[39;49m\u001b[43m)\u001b[49m\u001b[43m[\u001b[49m\u001b[33;43m'\u001b[39;49m\u001b[33;43mFamily\u001b[39;49m\u001b[33;43m'\u001b[39;49m\u001b[43m,\u001b[49m\u001b[33;43m'\u001b[39;49m\u001b[33;43mHappiness Score\u001b[39;49m\u001b[33;43m'\u001b[39;49m\u001b[43m \u001b[49m\u001b[43m]\u001b[49m.agg([np.mean, np.min, np.max])\n",
      "\u001b[36mFile \u001b[39m\u001b[32m~/Documents/Portfolio/venv/lib/python3.12/site-packages/pandas/core/groupby/generic.py:1947\u001b[39m, in \u001b[36mDataFrameGroupBy.__getitem__\u001b[39m\u001b[34m(self, key)\u001b[39m\n\u001b[32m   1943\u001b[39m \u001b[38;5;66;03m# per GH 23566\u001b[39;00m\n\u001b[32m   1944\u001b[39m \u001b[38;5;28;01mif\u001b[39;00m \u001b[38;5;28misinstance\u001b[39m(key, \u001b[38;5;28mtuple\u001b[39m) \u001b[38;5;129;01mand\u001b[39;00m \u001b[38;5;28mlen\u001b[39m(key) > \u001b[32m1\u001b[39m:\n\u001b[32m   1945\u001b[39m     \u001b[38;5;66;03m# if len == 1, then it becomes a SeriesGroupBy and this is actually\u001b[39;00m\n\u001b[32m   1946\u001b[39m     \u001b[38;5;66;03m# valid syntax, so don't raise\u001b[39;00m\n\u001b[32m-> \u001b[39m\u001b[32m1947\u001b[39m     \u001b[38;5;28;01mraise\u001b[39;00m \u001b[38;5;167;01mValueError\u001b[39;00m(\n\u001b[32m   1948\u001b[39m         \u001b[33m\"\u001b[39m\u001b[33mCannot subset columns with a tuple with more than one element. \u001b[39m\u001b[33m\"\u001b[39m\n\u001b[32m   1949\u001b[39m         \u001b[33m\"\u001b[39m\u001b[33mUse a list instead.\u001b[39m\u001b[33m\"\u001b[39m\n\u001b[32m   1950\u001b[39m     )\n\u001b[32m   1951\u001b[39m \u001b[38;5;28;01mreturn\u001b[39;00m \u001b[38;5;28msuper\u001b[39m().\u001b[34m__getitem__\u001b[39m(key)\n",
      "\u001b[31mValueError\u001b[39m: Cannot subset columns with a tuple with more than one element. Use a list instead."
     ]
    }
   ],
   "source": [
    "mean_min_max_by_region = happiness2015.pivot_table(values=['Family','Happiness Score' ], index='Region', aggfunc=[np.mean, np.min , np.max], margins=True)\n",
    "mean_min_max_by_region\n",
    "\n",
    "happy_family_stats = happiness2015.groupby('Region')[['Family','Happiness Score' ]].agg([np.mean, np.min, np.max])"
   ]
  },
  {
   "cell_type": "code",
   "execution_count": 85,
   "id": "635fa3f8",
   "metadata": {},
   "outputs": [
    {
     "name": "stderr",
     "output_type": "stream",
     "text": [
      "/tmp/ipykernel_47535/624058675.py:1: FutureWarning: The provided callable <function mean at 0x72e0f4ee0f40> is currently using SeriesGroupBy.mean. In a future version of pandas, the provided callable will be used directly. To keep current behavior pass the string \"mean\" instead.\n",
      "  happy_family_stats = happiness2015.groupby('Region')[['Family','Happiness Score' ]].agg([np.mean, np.min, np.max])\n",
      "/tmp/ipykernel_47535/624058675.py:1: FutureWarning: The provided callable <function min at 0x72e0f4ee0680> is currently using SeriesGroupBy.min. In a future version of pandas, the provided callable will be used directly. To keep current behavior pass the string \"min\" instead.\n",
      "  happy_family_stats = happiness2015.groupby('Region')[['Family','Happiness Score' ]].agg([np.mean, np.min, np.max])\n",
      "/tmp/ipykernel_47535/624058675.py:1: FutureWarning: The provided callable <function max at 0x72e0f4ee0540> is currently using SeriesGroupBy.max. In a future version of pandas, the provided callable will be used directly. To keep current behavior pass the string \"max\" instead.\n",
      "  happy_family_stats = happiness2015.groupby('Region')[['Family','Happiness Score' ]].agg([np.mean, np.min, np.max])\n",
      "/tmp/ipykernel_47535/624058675.py:1: FutureWarning: The provided callable <function mean at 0x72e0f4ee0f40> is currently using SeriesGroupBy.mean. In a future version of pandas, the provided callable will be used directly. To keep current behavior pass the string \"mean\" instead.\n",
      "  happy_family_stats = happiness2015.groupby('Region')[['Family','Happiness Score' ]].agg([np.mean, np.min, np.max])\n"
     ]
    }
   ],
   "source": [
    "happy_family_stats = happiness2015.groupby('Region')[['Family','Happiness Score' ]].agg([np.mean, np.min, np.max])"
   ]
  },
  {
   "cell_type": "code",
   "execution_count": null,
   "id": "99617476",
   "metadata": {},
   "outputs": [],
   "source": []
  },
  {
   "cell_type": "code",
   "execution_count": null,
   "id": "3bf6256f",
   "metadata": {},
   "outputs": [],
   "source": []
  },
  {
   "cell_type": "code",
   "execution_count": null,
   "id": "dade23e8",
   "metadata": {},
   "outputs": [],
   "source": []
  },
  {
   "cell_type": "code",
   "execution_count": null,
   "id": "3d6ac1ea",
   "metadata": {},
   "outputs": [],
   "source": []
  },
  {
   "cell_type": "code",
   "execution_count": null,
   "id": "e4eec308",
   "metadata": {},
   "outputs": [],
   "source": []
  },
  {
   "cell_type": "code",
   "execution_count": null,
   "id": "59ca11fa",
   "metadata": {},
   "outputs": [],
   "source": []
  },
  {
   "cell_type": "code",
   "execution_count": null,
   "id": "7ac833e0",
   "metadata": {},
   "outputs": [],
   "source": []
  },
  {
   "cell_type": "code",
   "execution_count": null,
   "id": "381da5d6",
   "metadata": {},
   "outputs": [],
   "source": []
  },
  {
   "cell_type": "code",
   "execution_count": null,
   "id": "626938e5",
   "metadata": {},
   "outputs": [],
   "source": []
  },
  {
   "cell_type": "code",
   "execution_count": null,
   "id": "a76cbff5",
   "metadata": {},
   "outputs": [],
   "source": []
  },
  {
   "cell_type": "code",
   "execution_count": null,
   "id": "cbfe3e02",
   "metadata": {},
   "outputs": [],
   "source": []
  }
 ],
 "metadata": {
  "kernelspec": {
   "display_name": "venv",
   "language": "python",
   "name": "python3"
  },
  "language_info": {
   "codemirror_mode": {
    "name": "ipython",
    "version": 3
   },
   "file_extension": ".py",
   "mimetype": "text/x-python",
   "name": "python",
   "nbconvert_exporter": "python",
   "pygments_lexer": "ipython3",
   "version": "3.12.3"
  }
 },
 "nbformat": 4,
 "nbformat_minor": 5
}
